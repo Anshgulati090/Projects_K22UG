{
 "cells": [
  {
   "cell_type": "code",
   "execution_count": 32,
   "id": "355360e8",
   "metadata": {},
   "outputs": [
    {
     "name": "stdout",
     "output_type": "stream",
     "text": [
      "Enter the number of elements in the list: 100\n",
      "Enter the number to search for: 25\n",
      "[0, 4, 5, 5, 5, 7, 8, 9, 9, 10, 10, 11, 11, 11, 11, 16, 17, 17, 17, 18, 19, 20, 23, 24, 24, 25, 25, 27, 27, 27, 27, 30, 31, 31, 33, 34, 35, 35, 37, 37, 37, 39, 40, 41, 42, 42, 43, 44, 44, 44, 45, 45, 46, 47, 48, 49, 49, 50, 50, 51, 51, 52, 53, 54, 59, 61, 63, 70, 71, 71, 72, 74, 74, 75, 76, 78, 78, 83, 83, 83, 85, 86, 86, 87, 88, 88, 88, 89, 91, 91, 92, 93, 93, 93, 93, 95, 98, 98, 100, 100]\n",
      "[0, 2, 4, 6, 8, 10, 12, 14, 16, 18, 20, 22, 24, 26, 28, 30, 32, 34, 36, 38, 40, 42, 44, 46, 48, 50, 52, 54, 56, 58, 60, 62, 64, 66, 68, 70, 72, 74, 76, 78, 80, 82, 84, 86, 88, 90, 92, 94, 96, 98, 100, 102, 104, 106, 108, 110, 112, 114, 116, 118, 120, 122, 124, 126, 128, 130, 132, 134, 136, 138, 140, 142, 144, 146, 148, 150, 152, 154, 156, 158, 160, 162, 164, 166, 168, 170, 172, 174, 176, 178, 180, 182, 184, 186, 188, 190, 192, 194, 196, 198]\n",
      "The nymber is present in the list at  -1\n"
     ]
    }
   ],
   "source": [
    "import random\n",
    "\n",
    "# Function to generate a list of random numbers with a difference of 2 between them\n",
    "def generate_list(n):\n",
    "    lst = [random.randint(0,100) for i in range(n)]\n",
    "    lst.sort()\n",
    "    print(lst)\n",
    "    for i in range(1, len(lst)):\n",
    "        lst[i] = lst[i-1] + 2\n",
    "    print(lst)\n",
    "    return lst\n",
    "\n",
    "# Function to perform binary search on the list\n",
    "def binary_search(lst, x):\n",
    "    start = 0\n",
    "    end = len(lst) - 1\n",
    "    while start <= end:\n",
    "        mid = (start + end) // 2\n",
    "        if lst[mid] == x:\n",
    "            #print(\"The number is at \", (mid+1))\n",
    "            return True\n",
    "        elif lst[mid] < x:\n",
    "            start = mid + 1\n",
    "        else:\n",
    "            end = mid - 1\n",
    "    return False\n",
    "\n",
    "# Get input from the user\n",
    "n = int(input(\"Enter the number of elements in the list: \"))\n",
    "x = int(input(\"Enter the number to search for: \"))\n",
    "\n",
    "# Generate the list and perform binary search\n",
    "lst = generate_list(n)\n",
    "result = binary_search(lst, x)\n",
    "\n",
    "# Print the result\n",
    "if result:\n",
    "    print(\"The nymber is present in the list at \", result)\n",
    "else:\n",
    "    print(\"The number is not in the list.\")\n"
   ]
  },
  {
   "cell_type": "code",
   "execution_count": null,
   "id": "3aacf69d",
   "metadata": {},
   "outputs": [],
   "source": []
  },
  {
   "cell_type": "code",
   "execution_count": 33,
   "id": "81afc452",
   "metadata": {},
   "outputs": [
    {
     "name": "stdout",
     "output_type": "stream",
     "text": [
      "Enter the number till which you want the index100\n",
      "[0, 2, 4, 6, 8, 10, 12, 14, 16, 18, 20, 22, 24, 26, 28, 30, 32, 34, 36, 38, 40, 42, 44, 46, 48, 50, 52, 54, 56, 58, 60, 62, 64, 66, 68, 70, 72, 74, 76, 78, 80, 82, 84, 86, 88, 90, 92, 94, 96, 98]\n"
     ]
    },
    {
     "ename": "KeyboardInterrupt",
     "evalue": "Interrupted by user",
     "output_type": "error",
     "traceback": [
      "\u001b[1;31m---------------------------------------------------------------------------\u001b[0m",
      "\u001b[1;31mKeyboardInterrupt\u001b[0m                         Traceback (most recent call last)",
      "Input \u001b[1;32mIn [33]\u001b[0m, in \u001b[0;36m<cell line: 36>\u001b[1;34m()\u001b[0m\n\u001b[0;32m     32\u001b[0m \u001b[38;5;28mprint\u001b[39m(arr)\n\u001b[0;32m     34\u001b[0m \u001b[38;5;66;03m# input a random number from the user\u001b[39;00m\n\u001b[1;32m---> 36\u001b[0m x \u001b[38;5;241m=\u001b[39m \u001b[38;5;28mint\u001b[39m(\u001b[38;5;28;43minput\u001b[39;49m\u001b[43m(\u001b[49m\u001b[38;5;124;43m\"\u001b[39;49m\u001b[38;5;124;43mEnter a number between 0 to 100: \u001b[39;49m\u001b[38;5;124;43m\"\u001b[39;49m\u001b[43m)\u001b[49m)\n\u001b[0;32m     38\u001b[0m \u001b[38;5;66;03m# call the binary search function\u001b[39;00m\n\u001b[0;32m     39\u001b[0m result \u001b[38;5;241m=\u001b[39m binary_search(arr, x)\n",
      "File \u001b[1;32m~\\anaconda3\\lib\\site-packages\\ipykernel\\kernelbase.py:1075\u001b[0m, in \u001b[0;36mKernel.raw_input\u001b[1;34m(self, prompt)\u001b[0m\n\u001b[0;32m   1071\u001b[0m \u001b[38;5;28;01mif\u001b[39;00m \u001b[38;5;129;01mnot\u001b[39;00m \u001b[38;5;28mself\u001b[39m\u001b[38;5;241m.\u001b[39m_allow_stdin:\n\u001b[0;32m   1072\u001b[0m     \u001b[38;5;28;01mraise\u001b[39;00m StdinNotImplementedError(\n\u001b[0;32m   1073\u001b[0m         \u001b[38;5;124m\"\u001b[39m\u001b[38;5;124mraw_input was called, but this frontend does not support input requests.\u001b[39m\u001b[38;5;124m\"\u001b[39m\n\u001b[0;32m   1074\u001b[0m     )\n\u001b[1;32m-> 1075\u001b[0m \u001b[38;5;28;01mreturn\u001b[39;00m \u001b[38;5;28;43mself\u001b[39;49m\u001b[38;5;241;43m.\u001b[39;49m\u001b[43m_input_request\u001b[49m\u001b[43m(\u001b[49m\n\u001b[0;32m   1076\u001b[0m \u001b[43m    \u001b[49m\u001b[38;5;28;43mstr\u001b[39;49m\u001b[43m(\u001b[49m\u001b[43mprompt\u001b[49m\u001b[43m)\u001b[49m\u001b[43m,\u001b[49m\n\u001b[0;32m   1077\u001b[0m \u001b[43m    \u001b[49m\u001b[38;5;28;43mself\u001b[39;49m\u001b[38;5;241;43m.\u001b[39;49m\u001b[43m_parent_ident\u001b[49m\u001b[43m[\u001b[49m\u001b[38;5;124;43m\"\u001b[39;49m\u001b[38;5;124;43mshell\u001b[39;49m\u001b[38;5;124;43m\"\u001b[39;49m\u001b[43m]\u001b[49m\u001b[43m,\u001b[49m\n\u001b[0;32m   1078\u001b[0m \u001b[43m    \u001b[49m\u001b[38;5;28;43mself\u001b[39;49m\u001b[38;5;241;43m.\u001b[39;49m\u001b[43mget_parent\u001b[49m\u001b[43m(\u001b[49m\u001b[38;5;124;43m\"\u001b[39;49m\u001b[38;5;124;43mshell\u001b[39;49m\u001b[38;5;124;43m\"\u001b[39;49m\u001b[43m)\u001b[49m\u001b[43m,\u001b[49m\n\u001b[0;32m   1079\u001b[0m \u001b[43m    \u001b[49m\u001b[43mpassword\u001b[49m\u001b[38;5;241;43m=\u001b[39;49m\u001b[38;5;28;43;01mFalse\u001b[39;49;00m\u001b[43m,\u001b[49m\n\u001b[0;32m   1080\u001b[0m \u001b[43m\u001b[49m\u001b[43m)\u001b[49m\n",
      "File \u001b[1;32m~\\anaconda3\\lib\\site-packages\\ipykernel\\kernelbase.py:1120\u001b[0m, in \u001b[0;36mKernel._input_request\u001b[1;34m(self, prompt, ident, parent, password)\u001b[0m\n\u001b[0;32m   1117\u001b[0m             \u001b[38;5;28;01mbreak\u001b[39;00m\n\u001b[0;32m   1118\u001b[0m \u001b[38;5;28;01mexcept\u001b[39;00m \u001b[38;5;167;01mKeyboardInterrupt\u001b[39;00m:\n\u001b[0;32m   1119\u001b[0m     \u001b[38;5;66;03m# re-raise KeyboardInterrupt, to truncate traceback\u001b[39;00m\n\u001b[1;32m-> 1120\u001b[0m     \u001b[38;5;28;01mraise\u001b[39;00m \u001b[38;5;167;01mKeyboardInterrupt\u001b[39;00m(\u001b[38;5;124m\"\u001b[39m\u001b[38;5;124mInterrupted by user\u001b[39m\u001b[38;5;124m\"\u001b[39m) \u001b[38;5;28;01mfrom\u001b[39;00m \u001b[38;5;28mNone\u001b[39m\n\u001b[0;32m   1121\u001b[0m \u001b[38;5;28;01mexcept\u001b[39;00m \u001b[38;5;167;01mException\u001b[39;00m:\n\u001b[0;32m   1122\u001b[0m     \u001b[38;5;28mself\u001b[39m\u001b[38;5;241m.\u001b[39mlog\u001b[38;5;241m.\u001b[39mwarning(\u001b[38;5;124m\"\u001b[39m\u001b[38;5;124mInvalid Message:\u001b[39m\u001b[38;5;124m\"\u001b[39m, exc_info\u001b[38;5;241m=\u001b[39m\u001b[38;5;28;01mTrue\u001b[39;00m)\n",
      "\u001b[1;31mKeyboardInterrupt\u001b[0m: Interrupted by user"
     ]
    }
   ],
   "source": []
  },
  {
   "cell_type": "code",
   "execution_count": 36,
   "id": "be3e3a42",
   "metadata": {},
   "outputs": [
    {
     "name": "stdout",
     "output_type": "stream",
     "text": [
      "Enter a number between 0 to 100: 100\n",
      "The number is in the list at index: 50\n"
     ]
    }
   ],
   "source": [
    "import random\n",
    "\n",
    "def binary_search(arr, x):\n",
    "    # initialize the first and ladt index of the array\n",
    "    first = 0\n",
    "    last = len(arr) - 1\n",
    "\n",
    "    # loop until the subarray size becomes 0\n",
    "    while first <= last:\n",
    "        # calculate the middle index\n",
    "        middle = (first + last) // 2\n",
    "        \n",
    "        # check if num matches with the middle element\n",
    "        if arr[middle] == x:\n",
    "            return middle\n",
    "        \n",
    "        # if num is greater than the mid element, search in the right half\n",
    "        elif arr[middle] < x:\n",
    "            first = middle + 1\n",
    "        \n",
    "        # if num is smaller, search in the left half\n",
    "        else:\n",
    "            last = middle - 1\n",
    "    \n",
    "    # if num is not found in the array\n",
    "    return -1\n",
    "\n",
    "# create a list of random numbers between 0 to 100, with every succeeding number having a difference of 2\n",
    "ar = [i*2 for i in range(0, 51)]\n",
    "\n",
    "# input a random number from the user\n",
    "num = int(input(\"Enter a number between 0 to 100: \"))\n",
    "\n",
    "# call the binary search function\n",
    "res = binary_search(ar, num)\n",
    "\n",
    "# check if the number is in the list\n",
    "if res != -1:\n",
    "    print(\"The number is in the list at index:\", res)\n",
    "else:\n",
    "    print(\"The number is not in the list.\")\n"
   ]
  },
  {
   "cell_type": "code",
   "execution_count": null,
   "id": "bb4aa985",
   "metadata": {},
   "outputs": [],
   "source": []
  }
 ],
 "metadata": {
  "kernelspec": {
   "display_name": "Python 3 (ipykernel)",
   "language": "python",
   "name": "python3"
  },
  "language_info": {
   "codemirror_mode": {
    "name": "ipython",
    "version": 3
   },
   "file_extension": ".py",
   "mimetype": "text/x-python",
   "name": "python",
   "nbconvert_exporter": "python",
   "pygments_lexer": "ipython3",
   "version": "3.9.12"
  }
 },
 "nbformat": 4,
 "nbformat_minor": 5
}
