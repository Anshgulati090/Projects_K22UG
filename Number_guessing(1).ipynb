{
 "cells": [
  {
   "cell_type": "code",
   "execution_count": 1,
   "id": "99ed2c6c",
   "metadata": {},
   "outputs": [
    {
     "name": "stdout",
     "output_type": "stream",
     "text": [
      "Welcome to the Number Guessing Game!\n",
      "Enter the lower bound (A): 10\n",
      "Enter the upper bound (B): 50\n",
      "You have 28 guesses to find the random number between 10 and 50.\n",
      "Guess the number (10-50): 25\n",
      "Try Again! You guessed too small.\n",
      "Guess the number (10-50): 27\n",
      "Try Again! You guessed too small.\n",
      "Guess the number (10-50): 40\n",
      "Try Again! You guessed too small.\n",
      "Guess the number (10-50): 45\n",
      "Congratulations! You've guessed the number!\n"
     ]
    }
   ],
   "source": [
    "import random\n",
    "\n",
    "def number_guessing_game():\n",
    "    print(\"Welcome to the Number Guessing Game!\")\n",
    "\n",
    "    # Get user input for range\n",
    "    A = int(input(\"Enter the lower bound (A): \"))\n",
    "    B = int(input(\"Enter the upper bound (B): \"))\n",
    "\n",
    "    # Generate a random number within the range\n",
    "    random_number = random.randint(A, B)\n",
    "\n",
    "    # Set the maximum number of guesses based on the range size\n",
    "    max_guesses = int((B - A + 1) * 0.7)  # Adjust this factor as needed\n",
    "\n",
    "    print(f\"You have {max_guesses} guesses to find the random number between {A} and {B}.\")\n",
    "\n",
    "    # Initialize the number of guesses\n",
    "    guesses = 0\n",
    "\n",
    "    while guesses < max_guesses:\n",
    "        user_guess = int(input(f\"Guess the number ({A}-{B}): \"))\n",
    "        guesses += 1\n",
    "        if user_guess < random_number:\n",
    "            print(\"Try Again! You guessed too small.\")\n",
    "        elif user_guess > random_number:\n",
    "            print(\"Try Again! You guessed too high.\")\n",
    "        else:\n",
    "            print(\"Congratulations! You've guessed the number!\")\n",
    "            return\n",
    "\n",
    "        # Provide some hints based on divisibility\n",
    "        if random_number % user_guess == 0:\n",
    "            print(f\"Hint: The number is divisible by {user_guess}.\")\n",
    "        elif user_guess % random_number == 0:\n",
    "            print(f\"Hint: The number is a multiple of {user_guess}.\")\n",
    "        \n",
    "       \n",
    "\n",
    "    print(f\"Better Luck Next Time! The number was {random_number}.\")\n",
    "\n",
    "# Call the function to start the game\n",
    "number_guessing_game()\n"
   ]
  },
  {
   "cell_type": "code",
   "execution_count": null,
   "id": "dbfaa40d",
   "metadata": {},
   "outputs": [],
   "source": []
  }
 ],
 "metadata": {
  "kernelspec": {
   "display_name": "Python 3 (ipykernel)",
   "language": "python",
   "name": "python3"
  },
  "language_info": {
   "codemirror_mode": {
    "name": "ipython",
    "version": 3
   },
   "file_extension": ".py",
   "mimetype": "text/x-python",
   "name": "python",
   "nbconvert_exporter": "python",
   "pygments_lexer": "ipython3",
   "version": "3.9.12"
  }
 },
 "nbformat": 4,
 "nbformat_minor": 5
}
